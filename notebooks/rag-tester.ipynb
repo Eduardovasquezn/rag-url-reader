{
 "cells": [
  {
   "cell_type": "code",
   "execution_count": 1,
   "id": "initial_id",
   "metadata": {
    "collapsed": true,
    "ExecuteTime": {
     "end_time": "2024-03-11T21:30:22.692986Z",
     "start_time": "2024-03-11T21:30:14.193918Z"
    }
   },
   "outputs": [],
   "source": [
    "from langchain_community.document_loaders import WebBaseLoader, SeleniumURLLoader"
   ]
  },
  {
   "cell_type": "code",
   "outputs": [],
   "source": [
    "urls = [\n",
    "    'https://finance.yahoo.com/news/better-ai-stock-nvidia-vs-183000082.html'\n",
    "]"
   ],
   "metadata": {
    "collapsed": false,
    "ExecuteTime": {
     "end_time": "2024-03-11T21:30:22.697165Z",
     "start_time": "2024-03-11T21:30:22.693998Z"
    }
   },
   "id": "dc3eecbcb086b100",
   "execution_count": 2
  },
  {
   "cell_type": "code",
   "outputs": [],
   "source": [
    "web_base_loader = WebBaseLoader(urls)\n",
    "selenium_loader = SeleniumURLLoader(urls = urls)"
   ],
   "metadata": {
    "collapsed": false,
    "ExecuteTime": {
     "end_time": "2024-03-11T21:30:35.551278Z",
     "start_time": "2024-03-11T21:30:35.544505Z"
    }
   },
   "id": "e0b7736268c76a9c",
   "execution_count": 4
  },
  {
   "cell_type": "code",
   "outputs": [],
   "source": [
    "loaded_url = web_base_loader.load()"
   ],
   "metadata": {
    "collapsed": false,
    "ExecuteTime": {
     "end_time": "2024-03-11T21:31:26.886336Z",
     "start_time": "2024-03-11T21:31:24.765669Z"
    }
   },
   "id": "3562cdf352746ede",
   "execution_count": 5
  },
  {
   "cell_type": "code",
   "outputs": [],
   "source": [
    "selenium_url_loader = selenium_loader.load()"
   ],
   "metadata": {
    "collapsed": false,
    "ExecuteTime": {
     "end_time": "2024-03-11T21:31:52.324029Z",
     "start_time": "2024-03-11T21:31:26.904200Z"
    }
   },
   "id": "231b6a151b5baaa",
   "execution_count": 6
  },
  {
   "cell_type": "code",
   "outputs": [
    {
     "data": {
      "text/plain": "[Document(page_content=\"Better AI Stock: Nvidia vs. Super Micro Computer        HOME    MAIL    NEWS    FINANCE    SPORTS    ENTERTAINMENT    LIFE    SEARCH    SHOPPING    YAHOO PLUS    MORE...                  Yahoo Finance      Sign in      Mail  Sign in to view your mail      Finance     Watchlists     My Portfolio    Markets    YF Chartbook Calendars Trending Tickers Stocks: Most Actives Stocks: Gainers Stocks: Losers Top ETFs Futures World Indices Currencies Top Mutual Funds Options: Highest Open Interest Options: Highest Implied Volatility US Treasury Bonds Rates Currency Converter    News    Latest News From the Newsroom Stock Market News Earnings Politics Economic News Morning Brief Personal Finance News Crypto News Bidenomics Report Card    Videos    Yahoo Finance Invest Yahoo Finance Live ETF Report Options 101 Good Buy or Goodbye FA Corner     Yahoo Finance Plus    Dashboard Research Reports Investment Ideas Community Insights Webinars Blog    Screeners    Saved Screeners Equity Screener Mutual Fund Screener ETF Screener Futures Screener Index Screener Analyst Rating Screener   Technical Events Screener   Smart Money Screener   Top Holdings Screener      Personal Finance    Credit Cards Banking Personal loans Student loans Car insurance Home Buying Taxes     Crypto    Sectors    Basic Materials Communication Services Consumer Cyclical Consumer Defensive Energy Financial Services Healthcare Industrials Real Estate Technology Utilities     Contact Us    …   AdvertisementU.S. markets closedS&P 5005,117.94-5.75 (-0.11%)\\xa0Dow 3038,769.66+46.97 (+0.12%)\\xa0Nasdaq16,019.27-65.84 (-0.41%)\\xa0Russell 20002,065.88-16.83 (-0.81%)\\xa0Crude Oil78.14+0.13 (+0.17%)\\xa0Gold2,189.00+3.50 (+0.16%)\\xa0Silver24.68+0.13 (+0.53%)\\xa0EUR/USD1.0929-0.0013 (-0.12%)\\xa010-Yr Bond4.1040+0.0150 (+0.37%)\\xa0dólar/libra1.2813-0.0045 (-0.35%)\\xa0USD/JPY146.9340-0.0860 (-0.06%)\\xa0Bitcoin USD72,419.97+3,151.05 (+4.55%)\\xa0CMC Crypto 200885.540.00 (0.00%)\\xa0FTSE 1007,669.23+9.49 (+0.12%)\\xa0Nikkei 22538,820.49-868.45 (-2.19%)\\xa0Motley FoolBetter AI Stock: Nvidia vs. Super Micro ComputerRead full article2Oops!Something went wrong.Please try again later.More content belowOops!Something went wrong.Please try again later.More content belowNVDASMCIKeithen Drury, The Motley FoolMarch 10, 2024 at 2:30 PM·4 min readIn this article: Oops!Something went wrong.Please try again later.More content belowOops!Something went wrong.Please try again later.More content belowNVDAWatchlistSMCIYou're a very happy investor if you've owned Nvidia (NASDAQ: NVDA) or Super Micro Computer (NASDAQ: SMCI) over the past year. Since the start of 2023, Nvidia's stock is up 530%, while Supermicro's has risen an astounding 1,300%.In other words, if you invested $10,000 in each company on Jan. 1, 2023, you'd have nearly $205,000. But after that kind of performance, many investors may wonder if they can still invest in these two AI leaders without the risk of losing serious capital in just a few months.So, are either of these two stocks a buy right now? And if so, which is the better purchase?Nvidia and Super Micro Computer are not competitorsNvidia makes best-in-class graphics processing units (GPUs) that are perfect for training AI models. GPUs can process intense calculations efficiently, making them the best tool for the job. When a client wants to build a supercomputer capable of training AI models, it doesn't order a handful of GPUs; it orders thousands. With Nvidia's flagship GPU, the H100, costing an estimated $30,000 a piece, that's a massive growth driver for Nvidia.However, you can't just connect these GPUs together with a few cables and call it a day. You need a specialized server that properly networks these devices and combines them in clusters to maximize efficiency. That's where Super Micro Computer comes in.While some tech giants may have this expertise in-house, many do not, so they contract Supermicro to build their servers. Supermicro has many different server designs based on the application and expected workload size, so customers of all varieties can find what they need.This highlights the first difference between these two investments: Nvidia is a company that nearly all AI-focused businesses work with, while only some work with Supermicro. This doesn't mean Supermicro is doomed to fail, but it is a risk factor investors should consider. Supermicro could be dethroned by a competitor undercutting pricing, while Nvidia might only be knocked off its pedestal by someone creating a more powerful GPU -- something competitors have been struggling to do for a long time.Story continuesWhen examining each company's financials, Nvidia also starts to pull away.Nvidia's stock is cheaper than Supermicro'sBoth companies are growing rapidly, and their projections for the next quarter are also quite strong. In Q4 of FY 2024 (ending Jan. 28), Nvidia's revenue rose 265% year over year to $22.1 billion. It also gave guidance for Q1 revenue of $24 billion, indicating 234% growth.Supermicro also delivered strong results, with its Q2 FY 2024 (ending Dec. 31) revenue rising 103% to $3.67 billion. For its next quarter, Supermicro projects growth of 188% to 219%, placing it in the same realm as Nvidia.While Nvidia experienced the first wave of GPU demand, Supermicro's growth is just starting. However, the stock already responded with strong price appreciation because investors know what kind of growth to expect based on Nvidia's performance over the past year.As a result, Supermicro's stock is much more expensive than Nvidia's on a forward price-to-earnings (P/E) basis.NVDA PE Ratio (Forward) ChartUsing a forward P/E ratio when a company is undergoing a massive change is wise, as it uses analyst projections to value it. There is still room for error (as no one has a crystal ball), but it gives investors an idea of what they're paying for.Because Nvidia is cheaper from this metric and has stronger growth and vital product positioning, I think it's a much better buy than Super Micro Computer.Should the strong AI demand persist for a few years, both stocks could be excellent picks, but Nvidia remains the king of AI investment opportunities right now.Should you invest $1,000 in Nvidia right now?Before you buy stock in Nvidia, consider this:The Motley Fool Stock Advisor analyst team just identified what they believe are the\\xa010 best stocks for investors to buy now… and Nvidia wasn’t one of them. The 10 stocks that made the cut could produce monster returns in the coming years.Stock Advisor provides investors with an easy-to-follow blueprint for success, including guidance on building a portfolio, regular updates from analysts, and two new stock picks each month. The Stock Advisor service has\\xa0more than tripled\\xa0the return of S&P 500 since 2002*.See the 10 stocks*Stock Advisor returns as of March 8, 2024Keithen Drury has no position in any of the stocks mentioned. The Motley Fool has positions in and recommends Nvidia. The Motley Fool recommends Super Micro Computer. The Motley Fool has a disclosure policy.Better AI Stock: Nvidia vs. Super Micro Computer was originally published by The Motley FoolTRENDING 1. NYCB: Where commercial real estate fits into bank's rescue plan 2. TREASURIES-US yields advance after declines last week, markets eye CPI 3. UPDATE 1-Deutsche Bahn loses lawsuit to halt German rail strike 4. Biden's $7.3 trillion budget: Top takeaways 5. Want to buy 'Made in the USA' meat and eggs? A new federal labeling rule might helpAdvertisement\", metadata={'source': 'https://finance.yahoo.com/news/better-ai-stock-nvidia-vs-183000082.html', 'title': 'Better AI Stock: Nvidia vs. Super Micro Computer', 'description': 'Nvidia and Super Micro Computer have made investors huge profits over the past year.', 'language': 'en-US'})]"
     },
     "execution_count": 7,
     "metadata": {},
     "output_type": "execute_result"
    }
   ],
   "source": [
    "loaded_url"
   ],
   "metadata": {
    "collapsed": false,
    "ExecuteTime": {
     "end_time": "2024-03-11T21:32:04.659871Z",
     "start_time": "2024-03-11T21:32:04.654663Z"
    }
   },
   "id": "1d7507a12e8efa8e",
   "execution_count": 7
  },
  {
   "cell_type": "code",
   "outputs": [],
   "source": [
    "from langchain.text_splitter import RecursiveCharacterTextSplitter"
   ],
   "metadata": {
    "collapsed": false,
    "ExecuteTime": {
     "end_time": "2024-03-11T21:36:53.733793Z",
     "start_time": "2024-03-11T21:36:53.724811Z"
    }
   },
   "id": "94fb4e56720be4a",
   "execution_count": 9
  },
  {
   "cell_type": "code",
   "outputs": [],
   "source": [
    "text_splitter = RecursiveCharacterTextSplitter(chunk_size=1000,\n",
    "                                               chunk_overlap=200)"
   ],
   "metadata": {
    "collapsed": false,
    "ExecuteTime": {
     "end_time": "2024-03-11T21:36:54.134451Z",
     "start_time": "2024-03-11T21:36:54.131780Z"
    }
   },
   "id": "3a4c45e5764d70ea",
   "execution_count": 10
  },
  {
   "cell_type": "code",
   "outputs": [],
   "source": [
    "chunks = text_splitter.split_documents(loaded_url)"
   ],
   "metadata": {
    "collapsed": false,
    "ExecuteTime": {
     "end_time": "2024-03-11T21:37:18.093050Z",
     "start_time": "2024-03-11T21:37:18.087944Z"
    }
   },
   "id": "ce428318c9ea4a2f",
   "execution_count": 11
  },
  {
   "cell_type": "code",
   "outputs": [
    {
     "data": {
      "text/plain": "10"
     },
     "execution_count": 12,
     "metadata": {},
     "output_type": "execute_result"
    }
   ],
   "source": [
    "len(chunks)"
   ],
   "metadata": {
    "collapsed": false,
    "ExecuteTime": {
     "end_time": "2024-03-11T21:37:23.251885Z",
     "start_time": "2024-03-11T21:37:23.248368Z"
    }
   },
   "id": "819667c02ae5934",
   "execution_count": 12
  },
  {
   "cell_type": "code",
   "outputs": [
    {
     "data": {
      "text/plain": "Document(page_content='Options 101 Good Buy or Goodbye FA Corner     Yahoo Finance Plus    Dashboard Research Reports Investment Ideas Community Insights Webinars Blog    Screeners    Saved Screeners Equity Screener Mutual Fund Screener ETF Screener Futures Screener Index Screener Analyst Rating Screener   Technical Events Screener   Smart Money Screener   Top Holdings Screener      Personal Finance    Credit Cards Banking Personal loans Student loans Car insurance Home Buying Taxes     Crypto    Sectors    Basic Materials Communication Services Consumer Cyclical Consumer Defensive Energy Financial Services Healthcare Industrials Real Estate Technology Utilities     Contact Us    …   AdvertisementU.S. markets closedS&P 5005,117.94-5.75 (-0.11%)\\xa0Dow 3038,769.66+46.97 (+0.12%)\\xa0Nasdaq16,019.27-65.84 (-0.41%)\\xa0Russell 20002,065.88-16.83 (-0.81%)\\xa0Crude Oil78.14+0.13 (+0.17%)\\xa0Gold2,189.00+3.50 (+0.16%)\\xa0Silver24.68+0.13 (+0.53%)\\xa0EUR/USD1.0929-0.0013 (-0.12%)\\xa010-Yr Bond4.1040+0.0150 (+0.37%)\\xa0dólar/libra1.2813-0.0045', metadata={'source': 'https://finance.yahoo.com/news/better-ai-stock-nvidia-vs-183000082.html', 'title': 'Better AI Stock: Nvidia vs. Super Micro Computer', 'description': 'Nvidia and Super Micro Computer have made investors huge profits over the past year.', 'language': 'en-US'})"
     },
     "execution_count": 13,
     "metadata": {},
     "output_type": "execute_result"
    }
   ],
   "source": [
    "chunks[1]"
   ],
   "metadata": {
    "collapsed": false,
    "ExecuteTime": {
     "end_time": "2024-03-11T21:37:32.486066Z",
     "start_time": "2024-03-11T21:37:32.481063Z"
    }
   },
   "id": "19c7eb3bbe47eb02",
   "execution_count": 13
  },
  {
   "cell_type": "code",
   "outputs": [],
   "source": [
    "from langchain_google_vertexai import VertexAIEmbeddings\n",
    "from dotenv import load_dotenv\n",
    "import os\n",
    "import google.generativeai as genai\n",
    "\n",
    "google_api_key = os.getenv(\"GOOGLE_API_KEY\")\n",
    "genai.configure(api_key=google_api_key)\n",
    "embeddings = VertexAIEmbeddings(model_name=\"textembedding-gecko@003\")"
   ],
   "metadata": {
    "collapsed": false,
    "ExecuteTime": {
     "end_time": "2024-03-11T21:40:49.562227Z",
     "start_time": "2024-03-11T21:40:21.109490Z"
    }
   },
   "id": "3d42cb8dbfe3a1e8",
   "execution_count": 14
  },
  {
   "cell_type": "code",
   "outputs": [],
   "source": [
    "query = \"How much did AMD grew last quarter?\""
   ],
   "metadata": {
    "collapsed": false,
    "ExecuteTime": {
     "end_time": "2024-03-11T21:40:49.567808Z",
     "start_time": "2024-03-11T21:40:49.563828Z"
    }
   },
   "id": "4dc7dabf3d2caec2",
   "execution_count": 15
  },
  {
   "cell_type": "code",
   "outputs": [],
   "source": [
    "query_embedded = embeddings.embed_query(query)"
   ],
   "metadata": {
    "collapsed": false,
    "ExecuteTime": {
     "end_time": "2024-03-11T21:41:17.310635Z",
     "start_time": "2024-03-11T21:41:16.941747Z"
    }
   },
   "id": "f44c2f9dc031a31b",
   "execution_count": 17
  },
  {
   "cell_type": "code",
   "outputs": [
    {
     "data": {
      "text/plain": "768"
     },
     "execution_count": 18,
     "metadata": {},
     "output_type": "execute_result"
    }
   ],
   "source": [
    "len(query_embedded)"
   ],
   "metadata": {
    "collapsed": false,
    "ExecuteTime": {
     "end_time": "2024-03-11T21:41:22.318597Z",
     "start_time": "2024-03-11T21:41:22.315013Z"
    }
   },
   "id": "3842b1548fb874e3",
   "execution_count": 18
  },
  {
   "cell_type": "code",
   "outputs": [],
   "source": [
    "from langchain_community.vectorstores import FAISS"
   ],
   "metadata": {
    "collapsed": false,
    "ExecuteTime": {
     "end_time": "2024-03-11T21:42:21.387829Z",
     "start_time": "2024-03-11T21:42:21.375956Z"
    }
   },
   "id": "4e5d18c861fe6bd4",
   "execution_count": 19
  },
  {
   "cell_type": "code",
   "outputs": [],
   "source": [
    "vector_store = FAISS.from_documents(documents = chunks, embedding = embeddings)"
   ],
   "metadata": {
    "collapsed": false,
    "ExecuteTime": {
     "end_time": "2024-03-11T21:44:02.542916Z",
     "start_time": "2024-03-11T21:43:56.078990Z"
    }
   },
   "id": "47623948f2e67dbc",
   "execution_count": 22
  },
  {
   "cell_type": "code",
   "outputs": [],
   "source": [
    "vector_store.save_local(\"faiss_index\")"
   ],
   "metadata": {
    "collapsed": false,
    "ExecuteTime": {
     "end_time": "2024-03-11T21:44:58.331322Z",
     "start_time": "2024-03-11T21:44:58.324970Z"
    }
   },
   "id": "88637783c60ea77b",
   "execution_count": 23
  },
  {
   "cell_type": "code",
   "outputs": [],
   "source": [
    "from langchain_google_vertexai import VertexAI"
   ],
   "metadata": {
    "collapsed": false,
    "ExecuteTime": {
     "end_time": "2024-03-11T21:45:38.063985Z",
     "start_time": "2024-03-11T21:45:38.060373Z"
    }
   },
   "id": "db8874946bb29df7",
   "execution_count": 24
  },
  {
   "cell_type": "code",
   "outputs": [],
   "source": [
    "llm = VertexAI(model_name=\"text-bison@002\")"
   ],
   "metadata": {
    "collapsed": false,
    "ExecuteTime": {
     "end_time": "2024-03-11T21:46:36.139465Z",
     "start_time": "2024-03-11T21:46:34.804720Z"
    }
   },
   "id": "a64689b0bbeaec05",
   "execution_count": 25
  },
  {
   "cell_type": "code",
   "outputs": [],
   "source": [
    "from langchain.prompts import PromptTemplate    \n",
    "prompt_template = \"\"\"\n",
    "Human: Answer the question as detailed as possible from the provided context, make sure to provide all the details. \n",
    "    Don't exceed 250 words on the explanation. If you don't know the answer, just say that you don't know, \n",
    "    don't try to make up an answer.\\n\n",
    "    \n",
    "    Context:\\n {context}?\\n\n",
    "    Question: {question}\n",
    "    \n",
    "    Assistant:\n",
    "\"\"\"\n",
    "prompt = PromptTemplate(template = prompt_template, input_variables = ['context', 'question'])"
   ],
   "metadata": {
    "collapsed": false,
    "ExecuteTime": {
     "end_time": "2024-03-11T21:48:35.044794Z",
     "start_time": "2024-03-11T21:48:35.026484Z"
    }
   },
   "id": "8b9f5de2271209e9",
   "execution_count": 26
  },
  {
   "cell_type": "code",
   "outputs": [],
   "source": [
    "from langchain.chains import RetrievalQA\n",
    "qa = RetrievalQA.from_chain_type(\n",
    "    llm = llm,\n",
    "    retriever = vector_store.as_retriever(\n",
    "        search_type = \"similarity\", search_kwargs = {\"k\": 3}\n",
    "    ),\n",
    "    chain_type = \"stuff\",\n",
    "    return_source_documents = True,\n",
    "    chain_type_kwargs={\"prompt\": prompt}\n",
    "    \n",
    ")"
   ],
   "metadata": {
    "collapsed": false,
    "ExecuteTime": {
     "end_time": "2024-03-11T21:50:58.319091Z",
     "start_time": "2024-03-11T21:50:57.520665Z"
    }
   },
   "id": "ad9daaedcc0e0b97",
   "execution_count": 28
  },
  {
   "cell_type": "code",
   "outputs": [],
   "source": [
    "question = \"What is the stock price increase of Nvidia in 2023?\""
   ],
   "metadata": {
    "collapsed": false,
    "ExecuteTime": {
     "end_time": "2024-03-11T21:52:22.582365Z",
     "start_time": "2024-03-11T21:52:22.579125Z"
    }
   },
   "id": "f40b300e14f4bcf2",
   "execution_count": 30
  },
  {
   "cell_type": "code",
   "outputs": [],
   "source": [
    "answer = qa({\"query\": question})"
   ],
   "metadata": {
    "collapsed": false,
    "ExecuteTime": {
     "end_time": "2024-03-11T21:52:24.199339Z",
     "start_time": "2024-03-11T21:52:22.794564Z"
    }
   },
   "id": "67326d23318c3ec7",
   "execution_count": 31
  },
  {
   "cell_type": "code",
   "outputs": [
    {
     "data": {
      "text/plain": "{'query': 'What is the stock price increase of Nvidia in 2023?',\n 'result': \" Nvidia's stock has experienced significant growth in 2023. Since the beginning of the year, its stock price has increased by an impressive 530%. This remarkable performance has made Nvidia a very attractive investment opportunity for many investors. However, it's important to note that past performance does not guarantee future results, and the stock market is always subject to fluctuations and risks.\",\n 'source_documents': [Document(page_content=\"(ending Jan. 28), Nvidia's revenue rose 265% year over year to $22.1 billion. It also gave guidance for Q1 revenue of $24 billion, indicating 234% growth.Supermicro also delivered strong results, with its Q2 FY 2024 (ending Dec. 31) revenue rising 103% to $3.67 billion. For its next quarter, Supermicro projects growth of 188% to 219%, placing it in the same realm as Nvidia.While Nvidia experienced the first wave of GPU demand, Supermicro's growth is just starting. However, the stock already responded with strong price appreciation because investors know what kind of growth to expect based on Nvidia's performance over the past year.As a result, Supermicro's stock is much more expensive than Nvidia's on a forward price-to-earnings (P/E) basis.NVDA PE Ratio (Forward) ChartUsing a forward P/E ratio when a company is undergoing a massive change is wise, as it uses analyst projections to value it. There is still room for error (as no one has a crystal ball), but it gives investors an idea\", metadata={'source': 'https://finance.yahoo.com/news/better-ai-stock-nvidia-vs-183000082.html', 'title': 'Better AI Stock: Nvidia vs. Super Micro Computer', 'description': 'Nvidia and Super Micro Computer have made investors huge profits over the past year.', 'language': 'en-US'}),\n  Document(page_content=\"20002,065.88-16.83 (-0.81%)\\xa0Crude Oil78.14+0.13 (+0.17%)\\xa0Gold2,189.00+3.50 (+0.16%)\\xa0Silver24.68+0.13 (+0.53%)\\xa0EUR/USD1.0929-0.0013 (-0.12%)\\xa010-Yr Bond4.1040+0.0150 (+0.37%)\\xa0dólar/libra1.2813-0.0045 (-0.35%)\\xa0USD/JPY146.9340-0.0860 (-0.06%)\\xa0Bitcoin USD72,419.97+3,151.05 (+4.55%)\\xa0CMC Crypto 200885.540.00 (0.00%)\\xa0FTSE 1007,669.23+9.49 (+0.12%)\\xa0Nikkei 22538,820.49-868.45 (-2.19%)\\xa0Motley FoolBetter AI Stock: Nvidia vs. Super Micro ComputerRead full article2Oops!Something went wrong.Please try again later.More content belowOops!Something went wrong.Please try again later.More content belowNVDASMCIKeithen Drury, The Motley FoolMarch 10, 2024 at 2:30 PM·4 min readIn this article: Oops!Something went wrong.Please try again later.More content belowOops!Something went wrong.Please try again later.More content belowNVDAWatchlistSMCIYou're a very happy investor if you've owned Nvidia (NASDAQ: NVDA) or Super Micro Computer (NASDAQ: SMCI) over the past year. Since the start of 2023, Nvidia's stock is\", metadata={'source': 'https://finance.yahoo.com/news/better-ai-stock-nvidia-vs-183000082.html', 'title': 'Better AI Stock: Nvidia vs. Super Micro Computer', 'description': 'Nvidia and Super Micro Computer have made investors huge profits over the past year.', 'language': 'en-US'}),\n  Document(page_content=\"content belowNVDAWatchlistSMCIYou're a very happy investor if you've owned Nvidia (NASDAQ: NVDA) or Super Micro Computer (NASDAQ: SMCI) over the past year. Since the start of 2023, Nvidia's stock is up 530%, while Supermicro's has risen an astounding 1,300%.In other words, if you invested $10,000 in each company on Jan. 1, 2023, you'd have nearly $205,000. But after that kind of performance, many investors may wonder if they can still invest in these two AI leaders without the risk of losing serious capital in just a few months.So, are either of these two stocks a buy right now? And if so, which is the better purchase?Nvidia and Super Micro Computer are not competitorsNvidia makes best-in-class graphics processing units (GPUs) that are perfect for training AI models. GPUs can process intense calculations efficiently, making them the best tool for the job. When a client wants to build a supercomputer capable of training AI models, it doesn't order a handful of GPUs; it orders\", metadata={'source': 'https://finance.yahoo.com/news/better-ai-stock-nvidia-vs-183000082.html', 'title': 'Better AI Stock: Nvidia vs. Super Micro Computer', 'description': 'Nvidia and Super Micro Computer have made investors huge profits over the past year.', 'language': 'en-US'})]}"
     },
     "execution_count": 32,
     "metadata": {},
     "output_type": "execute_result"
    }
   ],
   "source": [
    "answer"
   ],
   "metadata": {
    "collapsed": false,
    "ExecuteTime": {
     "end_time": "2024-03-11T21:52:26.875508Z",
     "start_time": "2024-03-11T21:52:26.870684Z"
    }
   },
   "id": "b83223403b38e681",
   "execution_count": 32
  },
  {
   "cell_type": "code",
   "outputs": [],
   "source": [],
   "metadata": {
    "collapsed": false
   },
   "id": "4ea62fb232212bd"
  }
 ],
 "metadata": {
  "kernelspec": {
   "display_name": "Python 3",
   "language": "python",
   "name": "python3"
  },
  "language_info": {
   "codemirror_mode": {
    "name": "ipython",
    "version": 2
   },
   "file_extension": ".py",
   "mimetype": "text/x-python",
   "name": "python",
   "nbconvert_exporter": "python",
   "pygments_lexer": "ipython2",
   "version": "2.7.6"
  }
 },
 "nbformat": 4,
 "nbformat_minor": 5
}
